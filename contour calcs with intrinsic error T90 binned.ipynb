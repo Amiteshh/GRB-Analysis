{
 "cells": [
  {
   "cell_type": "code",
   "execution_count": 1,
   "metadata": {},
   "outputs": [],
   "source": [
    "#Code to calculate the contour plots for A, B and intrinsic scatter (sigma) for T90 \n",
    "# using emcee and plotting them with corner package.\n",
    "\n",
    "\n",
    "#This code finds out the marginalized contours for the parameters A and B of our model (y=Ax^B) where y is T90 and x is (1+z)\n",
    "# or z depending on the type of analysis performed.\n",
    "\n",
    "\n",
    "#Importing the necessary packages\n",
    "import numpy as np\n",
    "import pandas as pd\n",
    "import matplotlib.pyplot as plt\n",
    "from astropy.io import ascii\n",
    "\n",
    "\n",
    "from scipy import stats\n",
    "#import pickle\n",
    "#from sympy.solvers import solve\n",
    "from scipy import optimize, interpolate\n",
    "from scipy.integrate import quad\n",
    "#import bces.bces\n",
    "import emcee\n",
    "from time import time    \n",
    "from math import log\n",
    "import corner"
   ]
  },
  {
   "cell_type": "code",
   "execution_count": 2,
   "metadata": {},
   "outputs": [],
   "source": [
    "#Importing the binned data and storing it into pandas dataframe\n",
    "\n",
    "legend_properties = {'weight':'bold'}\n",
    "\n",
    "\n",
    "data=pd.read_excel('Weighted mean burst interval data 6 bins.xlsx')\n",
    " \n",
    "\n"
   ]
  },
  {
   "cell_type": "code",
   "execution_count": 3,
   "metadata": {},
   "outputs": [
    {
     "data": {
      "text/html": [
       "<div>\n",
       "<style scoped>\n",
       "    .dataframe tbody tr th:only-of-type {\n",
       "        vertical-align: middle;\n",
       "    }\n",
       "\n",
       "    .dataframe tbody tr th {\n",
       "        vertical-align: top;\n",
       "    }\n",
       "\n",
       "    .dataframe thead th {\n",
       "        text-align: right;\n",
       "    }\n",
       "</style>\n",
       "<table border=\"1\" class=\"dataframe\">\n",
       "  <thead>\n",
       "    <tr style=\"text-align: right;\">\n",
       "      <th></th>\n",
       "      <th>z_mean</th>\n",
       "      <th>z_err</th>\n",
       "      <th>T90_WM</th>\n",
       "      <th>T90_WM_error</th>\n",
       "      <th>T50_WM</th>\n",
       "      <th>T50_WM_error</th>\n",
       "    </tr>\n",
       "  </thead>\n",
       "  <tbody>\n",
       "    <tr>\n",
       "      <th>0</th>\n",
       "      <td>0.778083</td>\n",
       "      <td>0.661083</td>\n",
       "      <td>0.462355</td>\n",
       "      <td>0.015048</td>\n",
       "      <td>0.510104</td>\n",
       "      <td>0.009861</td>\n",
       "    </tr>\n",
       "    <tr>\n",
       "      <th>1</th>\n",
       "      <td>2.100250</td>\n",
       "      <td>0.661083</td>\n",
       "      <td>6.405263</td>\n",
       "      <td>0.084405</td>\n",
       "      <td>4.731303</td>\n",
       "      <td>0.055622</td>\n",
       "    </tr>\n",
       "    <tr>\n",
       "      <th>2</th>\n",
       "      <td>3.422417</td>\n",
       "      <td>0.661083</td>\n",
       "      <td>16.826313</td>\n",
       "      <td>0.338812</td>\n",
       "      <td>5.735303</td>\n",
       "      <td>0.103964</td>\n",
       "    </tr>\n",
       "    <tr>\n",
       "      <th>3</th>\n",
       "      <td>4.744583</td>\n",
       "      <td>0.661083</td>\n",
       "      <td>12.693091</td>\n",
       "      <td>0.503496</td>\n",
       "      <td>7.722997</td>\n",
       "      <td>0.331179</td>\n",
       "    </tr>\n",
       "    <tr>\n",
       "      <th>4</th>\n",
       "      <td>6.066750</td>\n",
       "      <td>0.661083</td>\n",
       "      <td>42.610954</td>\n",
       "      <td>1.050181</td>\n",
       "      <td>26.943567</td>\n",
       "      <td>3.778623</td>\n",
       "    </tr>\n",
       "    <tr>\n",
       "      <th>5</th>\n",
       "      <td>7.388917</td>\n",
       "      <td>0.661083</td>\n",
       "      <td>12.960000</td>\n",
       "      <td>2.808000</td>\n",
       "      <td>5.296000</td>\n",
       "      <td>0.581000</td>\n",
       "    </tr>\n",
       "  </tbody>\n",
       "</table>\n",
       "</div>"
      ],
      "text/plain": [
       "     z_mean     z_err     T90_WM  T90_WM_error     T50_WM  T50_WM_error\n",
       "0  0.778083  0.661083   0.462355      0.015048   0.510104      0.009861\n",
       "1  2.100250  0.661083   6.405263      0.084405   4.731303      0.055622\n",
       "2  3.422417  0.661083  16.826313      0.338812   5.735303      0.103964\n",
       "3  4.744583  0.661083  12.693091      0.503496   7.722997      0.331179\n",
       "4  6.066750  0.661083  42.610954      1.050181  26.943567      3.778623\n",
       "5  7.388917  0.661083  12.960000      2.808000   5.296000      0.581000"
      ]
     },
     "execution_count": 3,
     "metadata": {},
     "output_type": "execute_result"
    }
   ],
   "source": [
    "data"
   ]
  },
  {
   "cell_type": "code",
   "execution_count": 4,
   "metadata": {},
   "outputs": [
    {
     "name": "stdout",
     "output_type": "stream",
     "text": [
      "-117.22822217811176\n"
     ]
    },
    {
     "name": "stderr",
     "output_type": "stream",
     "text": [
      "  0%|                                                                                          | 0/400 [00:00<?, ?it/s]D:\\Anaconda3\\envs\\GW\\lib\\site-packages\\emcee\\moves\\red_blue.py:99: RuntimeWarning: invalid value encountered in double_scalars\n",
      "  lnpdiff = f + nlp - state.log_prob[j]\n",
      "  1%|▊                                                                                 | 4/400 [00:00<00:27, 14.53it/s]"
     ]
    },
    {
     "name": "stdout",
     "output_type": "stream",
     "text": [
      "[2.58612199 1.10562082 2.31192296]\n",
      "-17.106493598089788\n"
     ]
    },
    {
     "name": "stderr",
     "output_type": "stream",
     "text": [
      "100%|████████████████████████████████████████████████████████████████████████████████| 400/400 [01:09<00:00,  5.72it/s]\n",
      "D:\\Anaconda3\\envs\\GW\\lib\\site-packages\\corner\\core.py:675: UserWarning: The following kwargs were not used by contour: 'color'\n",
      "  ax.contour(X2, Y2, H2.T, V, **contour_kwargs)\n",
      "D:\\Anaconda3\\envs\\GW\\lib\\site-packages\\corner\\core.py:675: UserWarning: The following kwargs were not used by contour: 'color'\n",
      "  ax.contour(X2, Y2, H2.T, V, **contour_kwargs)\n",
      "D:\\Anaconda3\\envs\\GW\\lib\\site-packages\\corner\\core.py:675: UserWarning: The following kwargs were not used by contour: 'color'\n",
      "  ax.contour(X2, Y2, H2.T, V, **contour_kwargs)\n"
     ]
    },
    {
     "name": "stdout",
     "output_type": "stream",
     "text": [
      "Time taken to run 'emcee' is 69.99705290794373 seconds\n",
      "(20000, 3)\n",
      "4.378482080684131 3.2717107633744322 3.751219671896239 A\n",
      "0.7368760949450227 0.4902541389135219 0.7166268846171627 B\n",
      "2.511694701822073 0.40262004548330577 0.4175687507049455 ln($\\sigma_{int}$)\n",
      "[4.37848208 0.73687609 2.5116947 ]\n",
      "-17.468621769889463\n"
     ]
    },
    {
     "data": {
      "image/png": "[encoded data removed]",
      "text/plain": [
       "<Figure size 547.2x547.2 with 9 Axes>"
      ]
     },
     "metadata": {
      "needs_background": "light"
     },
     "output_type": "display_data"
    }
   ],
   "source": [
    "#Assigning variables to our input data and converting them into float for easy analysis.\n",
    "\n",
    "x=(data['z_mean']).astype(float)\n",
    "xerr=(data['z_err']).astype(float)\n",
    "y=(data['T90_WM']).astype(float)\n",
    "yerr=(data['T90_WM_error']).astype(float)\n",
    "\n",
    "\n",
    "#curve fit\n",
    "#def f(r1,m,c):\n",
    " #return m*r1+c\n",
    "\n",
    "i=2\n",
    "nboot=10000\n",
    "\n",
    "\n",
    "def logl(params):\n",
    "    A,B,logf=params      # A, B and logf are the parameters to be optimized\n",
    "    model = A*((1+x)**B)   # Our model \n",
    "    f=np.exp(logf)\n",
    "    #sig_i=(eat/at)**2+(m*(eab/ab))**2+sig**2\n",
    "    #return -0.5 * np.sum((np.log(at) - (m*np.log(ab)+c)) ** 2 / sig_i  + np.log(sig_i))\n",
    "\n",
    "    sigma2 = yerr ** 2  + ((A*B* (1+x) ** (B-1)) ** 2) * (xerr)**2 +f**2    #binned data\n",
    "    return -0.5 * np.sum((y-model) ** 2 / sigma2  + np.log(sigma2))         #This returns the log likelihood \n",
    "\n",
    "\n",
    "\n",
    "   \n",
    "\n",
    "def log_prior(params):\n",
    "    A, B,logf = params\n",
    "    if -3 < A < 10 and -1 < B < 3 and -1 < logf < 4:    # Priors for our parameters A, B and C. \n",
    "        return 0.0                                      # These priors can be fiddled around to obtain closed contours.\n",
    "    return -np.inf\n",
    "\n",
    "def log_posterior(params):\n",
    "    lp = log_prior(params)\n",
    "    if not np.isfinite(lp):\n",
    "        return -np.inf\n",
    "    return lp + logl(params)\n",
    "\n",
    "v2=np.array([11,1,0.1])\n",
    "print (logl(v2))\n",
    "   \n",
    "Nens = 100 \n",
    "mini = np.random.uniform(-0.5, 20, Nens)\n",
    "bini=np.random.uniform(0, 4, Nens)\n",
    "sini=np.random.uniform(-2,2,Nens)\n",
    "params=[10.97,1,-1]\n",
    "neg_logl = lambda theta: -logl(theta)\n",
    "result=optimize.minimize(neg_logl,params)    #optimizing the model and storing the resultant parameters in result variable.\n",
    "print (result.x)\n",
    "print (logl(result.x))\n",
    "\n",
    "inisamples = np.array([mini, bini,sini]).T # initial samples\n",
    "ndims = inisamples.shape[1] # number of parameters/dimensions\n",
    "Nburnin = 200   # number of burn-in samples\n",
    "Nsamples = 200  # number of final posterior samples\n",
    "sampler = emcee.EnsembleSampler(Nens, ndims, log_posterior)\n",
    "t0 = time() # start time\n",
    "sampler.run_mcmc(inisamples, Nsamples+Nburnin,progress=True);\n",
    "t1 = time()\n",
    "timeemcee = (t1-t0)\n",
    "print(\"Time taken to run 'emcee' is {} seconds\".format(timeemcee))\n",
    "\n",
    "# extract the samples (removing the burn-in)\n",
    "labels=[\"A\", \"B\", \"ln($\\sigma_{int}$)\"]\n",
    "samples_emcee = sampler.chain[:, Nburnin:, :].reshape((-1, ndims))\n",
    "print (samples_emcee.shape)\n",
    "#tau = sampler.get_autocorr_time()\n",
    "#print(tau)\n",
    "flat_samples = sampler.get_chain(discard=Nburnin, thin=15, flat=True)\n",
    "\n",
    "#FF = open(\"tempnopcut.pkl\", \"wb\")\n",
    "#pickle.dump(flat_samples,FF)\n",
    "#FF.close()\n",
    "\n",
    "value2 = np.median(flat_samples, axis=0)\n",
    "fig = corner.corner(flat_samples, labels=labels, levels=(0.68,0.95,0.99),color = 'b',alpha=0.1,fill_contours = 1,show_titles=True,title_fmt='.2f',max_n_ticks = 3, title_kwargs={\"fontsize\": 14},label_kwargs={\"fontsize\": 16},contour_kwargs={\"color\": 'r'})\n",
    "# Extract the axes\n",
    "axes = np.array(fig.axes).reshape((ndims, ndims))\n",
    "\n",
    "# Loop over the diagonal\n",
    "for i in range(ndims):\n",
    " ax = axes[i, i]\n",
    " ax.axvline(value2[i], color=\"r\")\n",
    "\n",
    " \n",
    "ax = axes[1,0]\n",
    "#ax.axvline(x=0.0, color=\"k\", linestyle='--')\n",
    "#ax.axhline(y=1.0, color=\"k\", linestyle='--')\n",
    "         \n",
    "plt.savefig(\"contour_T90_vs_(1+z)_6_binned.pdf\")\n",
    "v=np.zeros(ndims)\n",
    "for i in range(ndims):\n",
    "    mcmc = np.percentile(flat_samples[:, i], [16, 50, 84])\n",
    "    v[i]=mcmc[1]\n",
    "    q = np.diff(mcmc)\n",
    "    print (mcmc[1],q[0],q[1],labels[i] )\n",
    "\n",
    "print (v)\n",
    "print (logl(v))\n",
    "exit(0)\n",
    "\n"
   ]
  },
  {
   "cell_type": "code",
   "execution_count": null,
   "metadata": {},
   "outputs": [],
   "source": []
  },
  {
   "cell_type": "code",
   "execution_count": null,
   "metadata": {},
   "outputs": [],
   "source": []
  },
  {
   "cell_type": "code",
   "execution_count": null,
   "metadata": {},
   "outputs": [],
   "source": []
  },
  {
   "cell_type": "code",
   "execution_count": null,
   "metadata": {},
   "outputs": [],
   "source": []
  },
  {
   "cell_type": "code",
   "execution_count": null,
   "metadata": {},
   "outputs": [],
   "source": []
  },
  {
   "cell_type": "code",
   "execution_count": null,
   "metadata": {},
   "outputs": [],
   "source": []
  }
 ],
 "metadata": {
  "kernelspec": {
   "display_name": "Python 3",
   "language": "python",
   "name": "python3"
  },
  "language_info": {
   "codemirror_mode": {
    "name": "ipython",
    "version": 3
   },
   "file_extension": ".py",
   "mimetype": "text/x-python",
   "name": "python",
   "nbconvert_exporter": "python",
   "pygments_lexer": "ipython3",
   "version": "3.7.6"
  }
 },
 "nbformat": 4,
 "nbformat_minor": 4
}
