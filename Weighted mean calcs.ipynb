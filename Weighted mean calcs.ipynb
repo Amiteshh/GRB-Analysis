{
 "cells": [
  {
   "cell_type": "code",
   "execution_count": null,
   "metadata": {},
   "outputs": [],
   "source": []
  },
  {
   "cell_type": "code",
   "execution_count": 1,
   "metadata": {},
   "outputs": [
    {
     "name": "stdout",
     "output_type": "stream",
     "text": [
      "[0.01504779 0.08440543 0.33881239 0.50349563 1.05018123 2.808     ] [0.00986121 0.05562151 0.10396419 0.33117945 3.77862324 0.581     ]\n",
      "[0.117      1.43916667 2.76133333 4.0835     5.40566667 6.72783333\n",
      " 8.05      ]\n"
     ]
    },
    {
     "data": {
      "image/png": "[encoded data removed]",
      "text/plain": [
       "<Figure size 432x288 with 1 Axes>"
      ]
     },
     "metadata": {
      "needs_background": "light"
     },
     "output_type": "display_data"
    }
   ],
   "source": [
    "# Code to create Maximum likelihood contour plots for A and B (theta_0 and theta_1)\n",
    "\n",
    "import numpy as np\n",
    "from astropy.io import ascii\n",
    "from scipy.optimize import curve_fit\n",
    "from matplotlib.pylab import plt\n",
    "data=ascii.read('grb.txt')  \n",
    "z=(data['z'])  # variable z is really 1+z\n",
    "t90=(data['T90_(s)'])\n",
    "t50=(data['T50_(s)'])\n",
    "\n",
    "t90err= (data['T90_error'])\n",
    "t50err= (data['T50_error'])\n",
    "\n",
    "wtt90=t90/(t90err**2)\n",
    "wtt50=t50/(t50err**2)\n",
    "\n",
    "err90=1/(t90err**2)\n",
    "err50=1/(t50err**2)\n",
    "n,bin_edges=np.histogram(z,bins=6)\n",
    "x_mid = 0.5 * (bin_edges[1:] + bin_edges[:-1])  \n",
    "xbin=0.5*(bin_edges[1]-bin_edges[0])\n",
    "digitized_array = np.digitize(z, bins = bin_edges)\n",
    "\n",
    "\n",
    "y90=np.array([np.sum(wtt90[digitized_array == i])   for i in set(digitized_array)])\n",
    "yerr90=np.array([np.sum(err90[digitized_array == i])   for i in set(digitized_array)])\n",
    "\n",
    "y50=np.array([np.sum(wtt50[digitized_array == i])   for i in set(digitized_array)])\n",
    "yerr50=np.array([np.sum(err50[digitized_array == i])   for i in set(digitized_array)])\n",
    "\n",
    "wtmean90=y90/yerr90\n",
    "wtmean50=y50/yerr50\n",
    "\n",
    "errwtmean90=np.sqrt(1.0/yerr90)\n",
    "errwtmean50=np.sqrt(1.0/yerr50)\n",
    "\n",
    "print (errwtmean90,errwtmean50)\n",
    "\n",
    "plt.errorbar(x_mid,wtmean90,yerr=errwtmean90,xerr=xbin,fmt='.k')\n",
    "\n",
    "#Plotting weighted means for T90\n",
    "print (bin_edges)\n",
    "plt.yscale('log')\n",
    "plt.xscale('log')\n",
    "plt.xlabel('z')\n",
    "plt.ylabel('T90')\n",
    "plt.savefig('binnedgrb90.pdf')"
   ]
  },
  {
   "cell_type": "code",
   "execution_count": 2,
   "metadata": {},
   "outputs": [
    {
     "name": "stdout",
     "output_type": "stream",
     "text": [
      "[0.117      1.43916667 2.76133333 4.0835     5.40566667 6.72783333\n",
      " 8.05      ]\n"
     ]
    },
    {
     "data": {
      "image/png": "[encoded data removed]",
      "text/plain": [
       "<Figure size 432x288 with 1 Axes>"
      ]
     },
     "metadata": {
      "needs_background": "light"
     },
     "output_type": "display_data"
    }
   ],
   "source": [
    "#Plotting weighted means for T50\n",
    "\n",
    "plt.errorbar(x_mid,wtmean50,yerr=errwtmean50,xerr=xbin,fmt='.k')\n",
    "\n",
    "print (bin_edges)\n",
    "plt.yscale('log')\n",
    "plt.xscale('log')\n",
    "plt.xlabel('z')\n",
    "plt.ylabel('T50')\n",
    "plt.savefig('binnedgrb50.pdf')"
   ]
  },
  {
   "cell_type": "code",
   "execution_count": 9,
   "metadata": {},
   "outputs": [
    {
     "data": {
      "text/plain": [
       "array([ 0.4623549 ,  6.4052634 , 16.82631344, 12.69309053, 42.61095364,\n",
       "       12.96      ])"
      ]
     },
     "execution_count": 9,
     "metadata": {},
     "output_type": "execute_result"
    }
   ],
   "source": [
    "wtmean90"
   ]
  },
  {
   "cell_type": "code",
   "execution_count": 10,
   "metadata": {},
   "outputs": [
    {
     "data": {
      "text/plain": [
       "array([0.01504779, 0.08440543, 0.33881239, 0.50349563, 1.05018123,\n",
       "       2.808     ])"
      ]
     },
     "execution_count": 10,
     "metadata": {},
     "output_type": "execute_result"
    }
   ],
   "source": [
    "errwtmean90"
   ]
  },
  {
   "cell_type": "code",
   "execution_count": null,
   "metadata": {},
   "outputs": [],
   "source": []
  },
  {
   "cell_type": "code",
   "execution_count": 32,
   "metadata": {},
   "outputs": [
    {
     "data": {
      "text/plain": [
       "array([0.117     , 0.99844444, 1.87988889, 2.76133333, 3.64277778,\n",
       "       4.52422222, 5.40566667, 6.28711111, 7.16855556, 8.05      ])"
      ]
     },
     "execution_count": 32,
     "metadata": {},
     "output_type": "execute_result"
    }
   ],
   "source": [
    "bin_edges"
   ]
  },
  {
   "cell_type": "code",
   "execution_count": 34,
   "metadata": {},
   "outputs": [
    {
     "data": {
      "text/plain": [
       "array([0.55772222, 1.43916667, 2.32061111, 3.20205556, 4.0835    ,\n",
       "       4.96494444, 5.84638889, 6.72783333, 7.60927778])"
      ]
     },
     "execution_count": 34,
     "metadata": {},
     "output_type": "execute_result"
    }
   ],
   "source": [
    "x_mid"
   ]
  },
  {
   "cell_type": "code",
   "execution_count": 38,
   "metadata": {},
   "outputs": [],
   "source": [
    "\n",
    "z_err=x_mid-bin_edges[0:9]"
   ]
  },
  {
   "cell_type": "code",
   "execution_count": 44,
   "metadata": {},
   "outputs": [
    {
     "data": {
      "text/plain": [
       "array([0.01325071, 0.01456355, 0.07133651, 0.12106195, 0.18127133,\n",
       "       0.58001176, 4.88889883, 5.955     , 0.581     ])"
      ]
     },
     "execution_count": 44,
     "metadata": {},
     "output_type": "execute_result"
    }
   ],
   "source": [
    "errwtmean50"
   ]
  },
  {
   "cell_type": "code",
   "execution_count": null,
   "metadata": {},
   "outputs": [],
   "source": []
  }
 ],
 "metadata": {
  "kernelspec": {
   "display_name": "Python 3",
   "language": "python",
   "name": "python3"
  },
  "language_info": {
   "codemirror_mode": {
    "name": "ipython",
    "version": 3
   },
   "file_extension": ".py",
   "mimetype": "text/x-python",
   "name": "python",
   "nbconvert_exporter": "python",
   "pygments_lexer": "ipython3",
   "version": "3.7.6"
  }
 },
 "nbformat": 4,
 "nbformat_minor": 4
}
